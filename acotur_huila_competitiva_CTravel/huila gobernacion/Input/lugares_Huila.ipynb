{
  "nbformat": 4,
  "nbformat_minor": 0,
  "metadata": {
    "colab": {
      "provenance": []
    },
    "kernelspec": {
      "name": "python3",
      "display_name": "Python 3"
    },
    "language_info": {
      "name": "python"
    }
  },
  "cells": [
    {
      "cell_type": "code",
      "execution_count": 27,
      "metadata": {
        "colab": {
          "base_uri": "https://localhost:8080/"
        },
        "id": "bk4XqLUvA2fi",
        "outputId": "6fe1503e-3208-4114-f8d6-c3f234e421b7"
      },
      "outputs": [
        {
          "output_type": "stream",
          "name": "stdout",
          "text": [
            "Requirement already satisfied: requests in /usr/local/lib/python3.12/dist-packages (2.32.4)\n",
            "Requirement already satisfied: beautifulsoup4 in /usr/local/lib/python3.12/dist-packages (4.13.5)\n",
            "Requirement already satisfied: charset_normalizer<4,>=2 in /usr/local/lib/python3.12/dist-packages (from requests) (3.4.3)\n",
            "Requirement already satisfied: idna<4,>=2.5 in /usr/local/lib/python3.12/dist-packages (from requests) (3.10)\n",
            "Requirement already satisfied: urllib3<3,>=1.21.1 in /usr/local/lib/python3.12/dist-packages (from requests) (2.5.0)\n",
            "Requirement already satisfied: certifi>=2017.4.17 in /usr/local/lib/python3.12/dist-packages (from requests) (2025.8.3)\n",
            "Requirement already satisfied: soupsieve>1.2 in /usr/local/lib/python3.12/dist-packages (from beautifulsoup4) (2.8)\n",
            "Requirement already satisfied: typing-extensions>=4.0.0 in /usr/local/lib/python3.12/dist-packages (from beautifulsoup4) (4.15.0)\n"
          ]
        }
      ],
      "source": [
        "pip install requests beautifulsoup4\n"
      ]
    },
    {
      "cell_type": "code",
      "source": [
        "import requests\n",
        "from bs4 import BeautifulSoup\n",
        "import pandas as pd\n",
        "import unicodedata\n",
        "\n",
        "URL = \"https://www.huila.gov.co/cultura-y-turismo/publicaciones/6130/patrimonio-tangible-inmueble/\"\n",
        "\n",
        "def norm_txt(s: str) -> str:\n",
        "    s = unicodedata.normalize(\"NFKD\", str(s))\n",
        "    s = \"\".join(ch for ch in s if not unicodedata.combining(ch))\n",
        "    return \" \".join(s.split()).strip().lower()\n",
        "\n",
        "resp = requests.get(URL, headers={\"User-Agent\": \"Mozilla/5.0\"})\n",
        "resp.encoding = \"utf-8\"\n",
        "soup = BeautifulSoup(resp.text, \"html.parser\")\n",
        "\n",
        "tables = pd.read_html(resp.text)\n",
        "\n",
        "registros = []\n",
        "for df in tables:\n",
        "    categoria_actual = None\n",
        "    for r in df.itertuples(index=False):\n",
        "        row_vals = [str(x) if pd.notna(x) else \"\" for x in r]\n",
        "        row_norm = [norm_txt(v) for v in row_vals]\n",
        "        row_join = \" \".join(row_norm)\n",
        "\n",
        "        # Detectar fila con categoría\n",
        "        if any(\"categoria\" in v for v in row_norm):\n",
        "            for val in row_vals:\n",
        "                if val.strip() != \"\":\n",
        "                    categoria_actual = val.strip()\n",
        "                    break\n",
        "            continue\n",
        "\n",
        "        # Saltar encabezados\n",
        "        if (\"municipio\" in row_join and \"denominacion\" in row_join) or (\"municipio\" in row_join and \"decreto\" in row_join):\n",
        "            continue\n",
        "\n",
        "        # Filas con 3 valores válidos\n",
        "        valores_utiles = [v.strip() for v in row_vals if v.strip() != \"\"]\n",
        "        if len(valores_utiles) == 3:\n",
        "            municipio, denominacion, decreto = valores_utiles\n",
        "            registros.append({\n",
        "                \"Categoria\": categoria_actual,\n",
        "                \"Municipio\": municipio,\n",
        "                \"Denominacion\": denominacion,\n",
        "                \"Decreto\": decreto\n",
        "            })\n"
      ],
      "metadata": {
        "colab": {
          "base_uri": "https://localhost:8080/"
        },
        "id": "7_Q3eiuxBGWn",
        "outputId": "dd9a0938-cc35-47b0-debb-93d4f66de808"
      },
      "execution_count": 28,
      "outputs": [
        {
          "output_type": "stream",
          "name": "stderr",
          "text": [
            "/tmp/ipython-input-1132986289.py:17: FutureWarning: Passing literal html to 'read_html' is deprecated and will be removed in a future version. To read from a literal string, wrap it in a 'StringIO' object.\n",
            "  tables = pd.read_html(resp.text)\n"
          ]
        }
      ]
    },
    {
      "cell_type": "code",
      "source": [
        "df_final = pd.DataFrame(registros)\n",
        "df_final[\"Departamento\"] = \"Huila\"\n",
        "df_final.to_csv(\"patrimonio_huila.csv\", index=False, encoding=\"utf-8\")\n",
        "print(f\"✅ Archivo generado con {len(df_final)} registros\")"
      ],
      "metadata": {
        "colab": {
          "base_uri": "https://localhost:8080/"
        },
        "id": "yDs4ZKctLZCJ",
        "outputId": "6b87836f-94e9-4737-a48b-afa4c6ed82f0"
      },
      "execution_count": 29,
      "outputs": [
        {
          "output_type": "stream",
          "name": "stdout",
          "text": [
            "✅ Archivo generado con 84 registros\n"
          ]
        }
      ]
    },
    {
      "cell_type": "code",
      "source": [
        "import requests\n",
        "from bs4 import BeautifulSoup\n",
        "import pandas as pd\n",
        "import unicodedata\n",
        "import time\n",
        "\n",
        "BASE_URL = \"https://www.huila.gov.co\"\n",
        "URL = \"https://www.huila.gov.co/cultura-y-turismo/publicaciones/9885/museos-departamento-del-huila/\"\n",
        "\n",
        "def norm_txt(s: str) -> str:\n",
        "    s = unicodedata.normalize(\"NFKD\", str(s))\n",
        "    s = \"\".join(ch for ch in s if not unicodedata.combining(ch))\n",
        "    return \" \".join(s.split()).strip()\n",
        "\n",
        "resp = requests.get(URL, headers={\"User-Agent\": \"Mozilla/5.0\"})\n",
        "resp.encoding = \"utf-8\"\n",
        "soup = BeautifulSoup(resp.text, \"html.parser\")\n",
        "\n",
        "# --- Extraer lista de museos y sus links ---\n",
        "museos = []\n",
        "for a in soup.select(\"#infoPrincipal a[href]\"):\n",
        "    nombre = norm_txt(a.get_text())\n",
        "    link = a[\"href\"].strip()\n",
        "    if link.startswith(\"http\"):\n",
        "        url = link\n",
        "    else:\n",
        "        url = BASE_URL + link\n",
        "    museos.append({\"Nombre\": nombre, \"URL\": url})\n",
        "\n",
        "# --- Para cada museo, entrar y extraer info ---\n",
        "detalles = []\n",
        "for m in museos:\n",
        "    print(f\"⏳ Procesando {m['Nombre']} -> {m['URL']}\")\n",
        "    info = \"\"\n",
        "    try:\n",
        "        r = requests.get(m[\"URL\"], headers={\"User-Agent\": \"Mozilla/5.0\"}, timeout=10)\n",
        "        r.encoding = \"utf-8\"\n",
        "        s = BeautifulSoup(r.text, \"html.parser\")\n",
        "\n",
        "        # Extraer todos los <p> con texto\n",
        "        parrafos = [norm_txt(p.get_text(\" \", strip=True)) for p in s.select(\"div.modContent p\") if p.get_text(strip=True)]\n",
        "        info = \" | \".join(parrafos)\n",
        "\n",
        "    except Exception as e:\n",
        "        print(f\"⚠️ Error con {m['Nombre']}: {e}\")\n",
        "        # Se conserva el nombre, pero la info queda vacía\n",
        "\n",
        "    detalles.append({\n",
        "        \"Nombre\": m[\"Nombre\"],\n",
        "        \"URL\": m[\"URL\"],\n",
        "        \"Info\": info\n",
        "    })\n",
        "    time.sleep(1)  # pequeña pausa para no saturar el servidor\n",
        "df_museos = pd.DataFrame(detalles)\n",
        "print(\"------\",df_museos.head())"
      ],
      "metadata": {
        "id": "OeJWQQxcIMuw",
        "colab": {
          "base_uri": "https://localhost:8080/"
        },
        "outputId": "1e702a8a-3e14-48f1-d6e7-e0ee998c7f14"
      },
      "execution_count": 30,
      "outputs": [
        {
          "output_type": "stream",
          "name": "stdout",
          "text": [
            "⏳ Procesando Inicio -> https://www.huila.gov.co/cultura-y-turismo/\n",
            "⏳ Procesando Compartir -> https://www.huila.gov.co#\n",
            "⏳ Procesando Buscar -> https://www.huila.gov.co#\n",
            "⏳ Procesando Facebook -> https://www.facebook.com/sharer/sharer.php?u=https://www.huila.gov.co/cultura-y-turismo/publicaciones/9885/museos-departamento-del-huila/\n",
            "⏳ Procesando Twitter -> https://twitter.com/intent/tweet?url=https://www.huila.gov.co/cultura-y-turismo/publicaciones/9885/museos-departamento-del-huila/\n",
            "⏳ Procesando Linkedin -> https://www.linkedin.com/shareArticle?mini=true&url=https://www.huila.gov.co/cultura-y-turismo/publicaciones/9885/museos-departamento-del-huila/\n",
            "⏳ Procesando Whatsapp -> https://www.huila.gov.cowhatsapp://send?text=https://www.huila.gov.co/cultura-y-turismo/publicaciones/9885/museos-departamento-del-huila/\n",
            "⚠️ Error con Whatsapp: HTTPSConnectionPool(host='www.huila.gov.cowhatsapp', port=443): Max retries exceeded with url: /send?text=https://www.huila.gov.co/cultura-y-turismo/publicaciones/9885/museos-departamento-del-huila/ (Caused by NameResolutionError(\"<urllib3.connection.HTTPSConnection object at 0x7992499fd070>: Failed to resolve 'www.huila.gov.cowhatsapp' ([Errno -2] Name or service not known)\"))\n",
            "⏳ Procesando  -> https://www.huila.gov.co#\n",
            "⏳ Procesando Vigias 1 -> https://www.huila.gov.co#\n",
            "⏳ Procesando vigias del patrimonio -> https://www.huila.gov.co#\n",
            "⏳ Procesando  -> https://www.huila.gov.co#\n",
            "⏳ Procesando Museos 2 -> https://www.huila.gov.co#\n",
            "⏳ Procesando  -> https://www.huila.gov.co#\n",
            "⏳ Procesando jorge v -> https://www.huila.gov.co#\n",
            "⏳ Procesando  -> https://www.huila.gov.co#\n",
            "⏳ Procesando museos -> https://www.huila.gov.co#\n",
            "⏳ Procesando Casa Museo Juan Friede -> http://turismo.huila.gov.co/museo/4\n",
            "⚠️ Error con Casa Museo Juan Friede: HTTPSConnectionPool(host='turismo.huila.gov.co', port=443): Max retries exceeded with url: /museo/4 (Caused by SSLError(SSLCertVerificationError(1, '[SSL: CERTIFICATE_VERIFY_FAILED] certificate verify failed: unable to get local issuer certificate (_ssl.c:1010)')))\n",
            "⏳ Procesando Museo Arqueologico -> http://turismo.huila.gov.co/museo/54\n",
            "⚠️ Error con Museo Arqueologico: HTTPSConnectionPool(host='turismo.huila.gov.co', port=443): Max retries exceeded with url: /museo/54 (Caused by SSLError(SSLCertVerificationError(1, '[SSL: CERTIFICATE_VERIFY_FAILED] certificate verify failed: unable to get local issuer certificate (_ssl.c:1010)')))\n",
            "⏳ Procesando Museo Arqueologico Villa de la Gaitana Timana -> http://turismo.huila.gov.co/museo/57\n",
            "⚠️ Error con Museo Arqueologico Villa de la Gaitana Timana: HTTPSConnectionPool(host='turismo.huila.gov.co', port=443): Max retries exceeded with url: /museo/57 (Caused by SSLError(SSLCertVerificationError(1, '[SSL: CERTIFICATE_VERIFY_FAILED] certificate verify failed: unable to get local issuer certificate (_ssl.c:1010)')))\n",
            "⏳ Procesando Museo de Arte Contemporaneo del Huila -> http://turismo.huila.gov.co/museo/8\n",
            "⚠️ Error con Museo de Arte Contemporaneo del Huila: HTTPSConnectionPool(host='turismo.huila.gov.co', port=443): Max retries exceeded with url: /museo/8 (Caused by SSLError(SSLCertVerificationError(1, '[SSL: CERTIFICATE_VERIFY_FAILED] certificate verify failed: unable to get local issuer certificate (_ssl.c:1010)')))\n",
            "⏳ Procesando Museo Geologico del Petroleo -> http://turismo.huila.gov.co/museo/6\n",
            "⚠️ Error con Museo Geologico del Petroleo: HTTPSConnectionPool(host='turismo.huila.gov.co', port=443): Max retries exceeded with url: /museo/6 (Caused by SSLError(SSLCertVerificationError(1, '[SSL: CERTIFICATE_VERIFY_FAILED] certificate verify failed: unable to get local issuer certificate (_ssl.c:1010)')))\n",
            "⏳ Procesando Casa Museo Sombrero de suaza -> http://turismo.huila.gov.co/museo/58\n",
            "⚠️ Error con Casa Museo Sombrero de suaza: HTTPSConnectionPool(host='turismo.huila.gov.co', port=443): Max retries exceeded with url: /museo/58 (Caused by SSLError(SSLCertVerificationError(1, '[SSL: CERTIFICATE_VERIFY_FAILED] certificate verify failed: unable to get local issuer certificate (_ssl.c:1010)')))\n",
            "⏳ Procesando Sala de Museo Jorge Villamiel Cordovez -> https://www.huila.gov.co/cultura-y-turismo/publicaciones/6139/sala-museo-jorge-villamil/\n",
            "⏳ Procesando Museo Arte Contemporaneo del Huila -> https://www.huila.gov.co/cultura-y-turismo/publicaciones/6141/museo-arte-contemporaneo-del-huila/\n",
            "⏳ Procesando Legado Musical Jorge Villamil Cordovez -> https://www.huila.gov.co/cultura-y-turismo/publicaciones/6140/legado-musical/\n",
            "⏳ Procesando Imprimir -> https://www.huila.gov.cojavascript:window.print(); void 0;\n",
            "⚠️ Error con Imprimir: Failed to parse: https://www.huila.gov.cojavascript:window.print(); void 0;\n",
            "⏳ Procesando Leer contenido -> https://www.huila.gov.cojavascript: void 0;\n",
            "⚠️ Error con Leer contenido: Failed to parse: https://www.huila.gov.cojavascript: void 0;\n",
            "------       Nombre                                                URL Info\n",
            "0     Inicio        https://www.huila.gov.co/cultura-y-turismo/     \n",
            "1  Compartir                          https://www.huila.gov.co#     \n",
            "2     Buscar                          https://www.huila.gov.co#     \n",
            "3   Facebook  https://www.facebook.com/sharer/sharer.php?u=h...     \n",
            "4    Twitter  https://twitter.com/intent/tweet?url=https://w...     \n"
          ]
        }
      ]
    },
    {
      "cell_type": "code",
      "source": [
        "\n",
        "# --- Eliminar los primeros 16 registros ---\n",
        "df_museos = df_museos.iloc[16:-2].reset_index(drop=True)\n",
        "\n",
        "# Crear un diccionario con los municipios identificados según el nombre del museo\n",
        "municipios_dict = {\n",
        "    \"Casa Museo Juan Friede\": \"San Agustín\",\n",
        "    \"Museo Arqueologico\": \"Neiva\",\n",
        "    \"Museo Arqueologico Villa de la Gaitana Timana\": \"Timaná\",\n",
        "    \"Museo de Arte Contemporaneo del Huila\": \"Neiva\",\n",
        "    \"Museo Geologico del Petroleo\": \"Neiva\",\n",
        "    \"Casa Museo Sombrero de suaza\": \"Suaza\",\n",
        "    \"Sala de Museo Jorge Villamiel Cordovez\":\"Neiva\",\n",
        "    \"Museo Arte Contemporaneo del Huila\":\"Neiva\",\n",
        "    \"Museo Paleontologico de Villavieja\": \"Villavieja\",\n",
        "    \"Casa Museo Artesanal Casa del Totumo\": \"Villavieja\",\n",
        "    \"Museo Parque Arqueologico Obando\": \"San Agustín\",\n",
        "    \"Casa Museo Luis Duque Gomez\": \"Isnos\",\n",
        "    \"Museo Prehistorico Una Mirada al Pasado\": \"Neiva\",\n",
        "    \"Sala Museo Jorge Villamil Cordovez\": \"Neiva\",\n",
        "    \"Museo Historia Natural de la Tatacoa\": \"Villavieja\",\n",
        "    \"Museo Comunitario La Tormenta\": \"Villavieja\"\n",
        "}\n",
        "\n",
        "# Normalizar nombres para hacer la asignación más robusta\n",
        "def asignar_municipio(nombre):\n",
        "    for key in municipios_dict:\n",
        "        if key.lower() in nombre.lower():\n",
        "            return municipios_dict[key]\n",
        "    return \"Desconocido\"\n",
        "\n",
        "# Agregar columnas\n",
        "df_museos[\"Departamento\"] = \"Huila\"\n",
        "df_museos[\"Categoria\"] = \"Categoria Museos\"\n",
        "df_museos[\"Municipio\"] = df_museos[\"Nombre\"].apply(asignar_municipio)"
      ],
      "metadata": {
        "id": "h4dOhuppCNVB"
      },
      "execution_count": 31,
      "outputs": []
    },
    {
      "cell_type": "code",
      "source": [
        "df_museos.to_csv(\"museos_huila.csv\", index=False, encoding=\"utf-8\")\n",
        "print(f\"✅ Archivo generado con {len(df_museos)} museos\")"
      ],
      "metadata": {
        "colab": {
          "base_uri": "https://localhost:8080/"
        },
        "id": "vj5V14fiCkmJ",
        "outputId": "ed77cb4e-aa0d-4d85-cb43-41496992e98f"
      },
      "execution_count": 32,
      "outputs": [
        {
          "output_type": "stream",
          "name": "stdout",
          "text": [
            "✅ Archivo generado con 9 museos\n"
          ]
        }
      ]
    },
    {
      "cell_type": "code",
      "source": [
        "df2_renamed = df_final.rename(columns={\"Denominacion\": \"Nombre\"})\n",
        "\n",
        "# Realizar un merge externo (outer) para no perder información de ninguno de los dos\n",
        "df_merged = pd.merge(df_museos, df2_renamed, on=[\"Nombre\", \"Municipio\", \"Categoria\", \"Departamento\"], how=\"outer\")"
      ],
      "metadata": {
        "id": "wpSLg2yfOk29"
      },
      "execution_count": 40,
      "outputs": []
    },
    {
      "cell_type": "code",
      "source": [
        "df_merged.to_csv(\"Lugares_Huila.csv\", index=False, encoding=\"utf-8\")\n",
        "print(f\"✅ Archivo generado con {len(df_merged)} lugares\")"
      ],
      "metadata": {
        "colab": {
          "base_uri": "https://localhost:8080/"
        },
        "id": "CsOpIgWpQKo-",
        "outputId": "8bb7e321-e276-4951-ae30-cccf1bb11272"
      },
      "execution_count": 41,
      "outputs": [
        {
          "output_type": "stream",
          "name": "stdout",
          "text": [
            "✅ Archivo generado con 93 lugares\n"
          ]
        }
      ]
    }
  ]
}