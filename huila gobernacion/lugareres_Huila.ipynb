{
  "nbformat": 4,
  "nbformat_minor": 0,
  "metadata": {
    "colab": {
      "provenance": []
    },
    "kernelspec": {
      "name": "python3",
      "display_name": "Python 3"
    },
    "language_info": {
      "name": "python"
    }
  },
  "cells": [
    {
      "cell_type": "code",
      "execution_count": 10,
      "metadata": {
        "colab": {
          "base_uri": "https://localhost:8080/"
        },
        "id": "bk4XqLUvA2fi",
        "outputId": "1928b319-bdeb-4485-8e8d-d1cd2b280e0a"
      },
      "outputs": [
        {
          "output_type": "stream",
          "name": "stdout",
          "text": [
            "Requirement already satisfied: requests in /usr/local/lib/python3.12/dist-packages (2.32.4)\n",
            "Requirement already satisfied: beautifulsoup4 in /usr/local/lib/python3.12/dist-packages (4.13.5)\n",
            "Requirement already satisfied: charset_normalizer<4,>=2 in /usr/local/lib/python3.12/dist-packages (from requests) (3.4.3)\n",
            "Requirement already satisfied: idna<4,>=2.5 in /usr/local/lib/python3.12/dist-packages (from requests) (3.10)\n",
            "Requirement already satisfied: urllib3<3,>=1.21.1 in /usr/local/lib/python3.12/dist-packages (from requests) (2.5.0)\n",
            "Requirement already satisfied: certifi>=2017.4.17 in /usr/local/lib/python3.12/dist-packages (from requests) (2025.8.3)\n",
            "Requirement already satisfied: soupsieve>1.2 in /usr/local/lib/python3.12/dist-packages (from beautifulsoup4) (2.7)\n",
            "Requirement already satisfied: typing-extensions>=4.0.0 in /usr/local/lib/python3.12/dist-packages (from beautifulsoup4) (4.15.0)\n"
          ]
        }
      ],
      "source": [
        "pip install requests beautifulsoup4\n"
      ]
    },
    {
      "cell_type": "code",
      "source": [
        "import requests\n",
        "from bs4 import BeautifulSoup\n",
        "import pandas as pd\n",
        "import unicodedata\n",
        "\n",
        "URL = \"https://www.huila.gov.co/cultura-y-turismo/publicaciones/6130/patrimonio-tangible-inmueble/\"\n",
        "\n",
        "def norm_txt(s: str) -> str:\n",
        "    s = unicodedata.normalize(\"NFKD\", str(s))\n",
        "    s = \"\".join(ch for ch in s if not unicodedata.combining(ch))\n",
        "    return \" \".join(s.split()).strip().lower()\n",
        "\n",
        "resp = requests.get(URL, headers={\"User-Agent\": \"Mozilla/5.0\"})\n",
        "resp.encoding = \"utf-8\"\n",
        "soup = BeautifulSoup(resp.text, \"html.parser\")\n",
        "\n",
        "tables = pd.read_html(resp.text)\n",
        "\n",
        "registros = []\n",
        "for df in tables:\n",
        "    categoria_actual = None\n",
        "    for r in df.itertuples(index=False):\n",
        "        row_vals = [str(x) if pd.notna(x) else \"\" for x in r]\n",
        "        row_norm = [norm_txt(v) for v in row_vals]\n",
        "        row_join = \" \".join(row_norm)\n",
        "\n",
        "        # Detectar fila con categoría\n",
        "        if any(\"categoria\" in v for v in row_norm):\n",
        "            for val in row_vals:\n",
        "                if val.strip() != \"\":\n",
        "                    categoria_actual = val.strip()\n",
        "                    break\n",
        "            continue\n",
        "\n",
        "        # Saltar encabezados\n",
        "        if (\"municipio\" in row_join and \"denominacion\" in row_join) or (\"municipio\" in row_join and \"decreto\" in row_join):\n",
        "            continue\n",
        "\n",
        "        # Filas con 3 valores válidos\n",
        "        valores_utiles = [v.strip() for v in row_vals if v.strip() != \"\"]\n",
        "        if len(valores_utiles) == 3:\n",
        "            municipio, denominacion, decreto = valores_utiles\n",
        "            registros.append({\n",
        "                \"Categoria\": categoria_actual,\n",
        "                \"Municipio\": municipio,\n",
        "                \"Denominacion\": denominacion,\n",
        "                \"Decreto\": decreto\n",
        "            })\n",
        "\n",
        "df_final = pd.DataFrame(registros)\n",
        "df_final.to_csv(\"patrimonio_huila.csv\", index=False, encoding=\"utf-8\")\n",
        "print(f\"✅ Archivo generado con {len(df_final)} registros\")\n"
      ],
      "metadata": {
        "colab": {
          "base_uri": "https://localhost:8080/"
        },
        "id": "7_Q3eiuxBGWn",
        "outputId": "4fc8f499-59c3-45d9-f354-b8732684ae51"
      },
      "execution_count": 11,
      "outputs": [
        {
          "output_type": "stream",
          "name": "stdout",
          "text": [
            "✅ Archivo generado con 84 registros\n"
          ]
        },
        {
          "output_type": "stream",
          "name": "stderr",
          "text": [
            "/tmp/ipython-input-3102109276.py:17: FutureWarning: Passing literal html to 'read_html' is deprecated and will be removed in a future version. To read from a literal string, wrap it in a 'StringIO' object.\n",
            "  tables = pd.read_html(resp.text)\n"
          ]
        }
      ]
    },
    {
      "cell_type": "code",
      "source": [
        "import requests\n",
        "from bs4 import BeautifulSoup\n",
        "import pandas as pd\n",
        "import unicodedata\n",
        "import time\n",
        "\n",
        "BASE_URL = \"https://www.huila.gov.co\"\n",
        "URL = \"https://www.huila.gov.co/cultura-y-turismo/publicaciones/9885/museos-departamento-del-huila/\"\n",
        "\n",
        "def norm_txt(s: str) -> str:\n",
        "    s = unicodedata.normalize(\"NFKD\", str(s))\n",
        "    s = \"\".join(ch for ch in s if not unicodedata.combining(ch))\n",
        "    return \" \".join(s.split()).strip()\n",
        "\n",
        "resp = requests.get(URL, headers={\"User-Agent\": \"Mozilla/5.0\"})\n",
        "resp.encoding = \"utf-8\"\n",
        "soup = BeautifulSoup(resp.text, \"html.parser\")\n",
        "\n",
        "# --- Extraer lista de museos y sus links ---\n",
        "museos = []\n",
        "for a in soup.select(\"#infoPrincipal a[href]\"):\n",
        "    nombre = norm_txt(a.get_text())\n",
        "    link = a[\"href\"].strip()\n",
        "    if link.startswith(\"http\"):\n",
        "        url = link\n",
        "    else:\n",
        "        url = BASE_URL + link\n",
        "    museos.append({\"Nombre\": nombre, \"URL\": url})\n",
        "\n",
        "# --- Para cada museo, entrar y extraer info ---\n",
        "detalles = []\n",
        "for m in museos:\n",
        "    print(f\"⏳ Procesando {m['Nombre']} -> {m['URL']}\")\n",
        "    info = \"\"\n",
        "    try:\n",
        "        r = requests.get(m[\"URL\"], headers={\"User-Agent\": \"Mozilla/5.0\"}, timeout=10)\n",
        "        r.encoding = \"utf-8\"\n",
        "        s = BeautifulSoup(r.text, \"html.parser\")\n",
        "\n",
        "        # Extraer todos los <p> con texto\n",
        "        parrafos = [norm_txt(p.get_text(\" \", strip=True)) for p in s.select(\"div.modContent p\") if p.get_text(strip=True)]\n",
        "        info = \" | \".join(parrafos)\n",
        "\n",
        "    except Exception as e:\n",
        "        print(f\"⚠️ Error con {m['Nombre']}: {e}\")\n",
        "        # Se conserva el nombre, pero la info queda vacía\n",
        "\n",
        "    detalles.append({\n",
        "        \"Nombre\": m[\"Nombre\"],\n",
        "        \"URL\": m[\"URL\"],\n",
        "        \"Info\": info\n",
        "    })\n",
        "    time.sleep(1)  # pequeña pausa para no saturar el servidor\n",
        "\n",
        "df_museos = pd.DataFrame(detalles)\n",
        "df_museos.to_csv(\"museos_huila.csv\", index=False, encoding=\"utf-8\")\n",
        "print(f\"✅ Archivo generado con {len(df_museos)} museos\")\n"
      ],
      "metadata": {
        "id": "OeJWQQxcIMuw",
        "colab": {
          "base_uri": "https://localhost:8080/"
        },
        "outputId": "d17b625c-5326-434c-8d87-85a667d6147b"
      },
      "execution_count": 12,
      "outputs": [
        {
          "output_type": "stream",
          "name": "stdout",
          "text": [
            "⏳ Procesando Inicio -> https://www.huila.gov.co/cultura-y-turismo/\n",
            "⏳ Procesando Compartir -> https://www.huila.gov.co#\n",
            "⏳ Procesando Buscar -> https://www.huila.gov.co#\n",
            "⏳ Procesando Facebook -> https://www.facebook.com/sharer/sharer.php?u=https://www.huila.gov.co/cultura-y-turismo/publicaciones/9885/museos-departamento-del-huila/\n",
            "⏳ Procesando Twitter -> https://twitter.com/intent/tweet?url=https://www.huila.gov.co/cultura-y-turismo/publicaciones/9885/museos-departamento-del-huila/\n",
            "⏳ Procesando Linkedin -> https://www.linkedin.com/shareArticle?mini=true&url=https://www.huila.gov.co/cultura-y-turismo/publicaciones/9885/museos-departamento-del-huila/\n",
            "⏳ Procesando Whatsapp -> https://www.huila.gov.cowhatsapp://send?text=https://www.huila.gov.co/cultura-y-turismo/publicaciones/9885/museos-departamento-del-huila/\n",
            "⚠️ Error con Whatsapp: HTTPSConnectionPool(host='www.huila.gov.cowhatsapp', port=443): Max retries exceeded with url: /send?text=https://www.huila.gov.co/cultura-y-turismo/publicaciones/9885/museos-departamento-del-huila/ (Caused by NameResolutionError(\"<urllib3.connection.HTTPSConnection object at 0x79bc80f236e0>: Failed to resolve 'www.huila.gov.cowhatsapp' ([Errno -2] Name or service not known)\"))\n",
            "⏳ Procesando  -> https://www.huila.gov.co#\n",
            "⏳ Procesando Vigias 1 -> https://www.huila.gov.co#\n",
            "⏳ Procesando vigias del patrimonio -> https://www.huila.gov.co#\n",
            "⏳ Procesando  -> https://www.huila.gov.co#\n",
            "⏳ Procesando Museos 2 -> https://www.huila.gov.co#\n",
            "⏳ Procesando  -> https://www.huila.gov.co#\n",
            "⏳ Procesando jorge v -> https://www.huila.gov.co#\n",
            "⏳ Procesando  -> https://www.huila.gov.co#\n",
            "⏳ Procesando museos -> https://www.huila.gov.co#\n",
            "⏳ Procesando Casa Museo Juan Friede -> http://turismo.huila.gov.co/museo/4\n",
            "⚠️ Error con Casa Museo Juan Friede: HTTPSConnectionPool(host='turismo.huila.gov.co', port=443): Max retries exceeded with url: /museo/4 (Caused by SSLError(SSLCertVerificationError(1, '[SSL: CERTIFICATE_VERIFY_FAILED] certificate verify failed: unable to get local issuer certificate (_ssl.c:1010)')))\n",
            "⏳ Procesando Museo Arqueologico -> http://turismo.huila.gov.co/museo/54\n",
            "⚠️ Error con Museo Arqueologico: HTTPSConnectionPool(host='turismo.huila.gov.co', port=443): Max retries exceeded with url: /museo/54 (Caused by SSLError(SSLCertVerificationError(1, '[SSL: CERTIFICATE_VERIFY_FAILED] certificate verify failed: unable to get local issuer certificate (_ssl.c:1010)')))\n",
            "⏳ Procesando Museo Arqueologico Villa de la Gaitana Timana -> http://turismo.huila.gov.co/museo/57\n",
            "⚠️ Error con Museo Arqueologico Villa de la Gaitana Timana: HTTPSConnectionPool(host='turismo.huila.gov.co', port=443): Max retries exceeded with url: /museo/57 (Caused by SSLError(SSLCertVerificationError(1, '[SSL: CERTIFICATE_VERIFY_FAILED] certificate verify failed: unable to get local issuer certificate (_ssl.c:1010)')))\n",
            "⏳ Procesando Museo de Arte Contemporaneo del Huila -> http://turismo.huila.gov.co/museo/8\n",
            "⚠️ Error con Museo de Arte Contemporaneo del Huila: HTTPSConnectionPool(host='turismo.huila.gov.co', port=443): Max retries exceeded with url: /museo/8 (Caused by SSLError(SSLCertVerificationError(1, '[SSL: CERTIFICATE_VERIFY_FAILED] certificate verify failed: unable to get local issuer certificate (_ssl.c:1010)')))\n",
            "⏳ Procesando Museo Geologico del Petroleo -> http://turismo.huila.gov.co/museo/6\n",
            "⚠️ Error con Museo Geologico del Petroleo: HTTPSConnectionPool(host='turismo.huila.gov.co', port=443): Max retries exceeded with url: /museo/6 (Caused by SSLError(SSLCertVerificationError(1, '[SSL: CERTIFICATE_VERIFY_FAILED] certificate verify failed: unable to get local issuer certificate (_ssl.c:1010)')))\n",
            "⏳ Procesando Casa Museo Sombrero de suaza -> http://turismo.huila.gov.co/museo/58\n",
            "⚠️ Error con Casa Museo Sombrero de suaza: HTTPSConnectionPool(host='turismo.huila.gov.co', port=443): Max retries exceeded with url: /museo/58 (Caused by SSLError(SSLCertVerificationError(1, '[SSL: CERTIFICATE_VERIFY_FAILED] certificate verify failed: unable to get local issuer certificate (_ssl.c:1010)')))\n",
            "⏳ Procesando Sala de Museo Jorge Villamiel Cordovez -> https://www.huila.gov.co/cultura-y-turismo/publicaciones/6139/sala-museo-jorge-villamil/\n",
            "⏳ Procesando Museo Arte Contemporaneo del Huila -> https://www.huila.gov.co/cultura-y-turismo/publicaciones/6141/museo-arte-contemporaneo-del-huila/\n",
            "⏳ Procesando Legado Musical Jorge Villamil Cordovez -> https://www.huila.gov.co/cultura-y-turismo/publicaciones/6140/legado-musical/\n",
            "⏳ Procesando Imprimir -> https://www.huila.gov.cojavascript:window.print(); void 0;\n",
            "⚠️ Error con Imprimir: Failed to parse: https://www.huila.gov.cojavascript:window.print(); void 0;\n",
            "⏳ Procesando Leer contenido -> https://www.huila.gov.cojavascript: void 0;\n",
            "⚠️ Error con Leer contenido: Failed to parse: https://www.huila.gov.cojavascript: void 0;\n",
            "✅ Archivo generado con 27 museos\n"
          ]
        }
      ]
    },
    {
      "cell_type": "code",
      "source": [
        "import pandas as pd\n",
        "import re\n",
        "\n",
        "# --- Leer el CSV generado ---\n",
        "df = pd.read_csv(\"/content/museos_huila.csv\", encoding=\"utf-8\")\n",
        "\n",
        "# --- Eliminar los primeros 16 registros ---\n",
        "df = df.iloc[16:-2].reset_index(drop=True)\n",
        "\n",
        "# --- Función para extraer ubicación ---\n",
        "def extraer_ubicacion(info: str) -> str:\n",
        "    if not isinstance(info, str) or info.strip() == \"\":\n",
        "        return \"\"\n",
        "\n",
        "    # Normalizamos texto\n",
        "    text = info.lower()\n",
        "\n",
        "    # Buscar expresiones comunes de ubicación\n",
        "    patrones = [\n",
        "        r\"(municipio de [^\\|]+)\",   # Ej: Municipio de Neiva\n",
        "        r\"(carrera\\s*\\d+\\s*#\\s*\\d+\\s*-\\s*\\d+[^|]*)\",  # Ej: Carrera 5 # 21 - 81\n",
        "        r\"(calle\\s*\\d+[^|]*)\",     # Ej: Calle 10\n",
        "        r\"(avenida\\s*[^\\|]+)\",     # Ej: Avenida principal\n",
        "        r\"(centro cultural[^\\|]*)\" # Ej: Centro Cultural y de convenciones...\n",
        "    ]\n",
        "\n",
        "    for pat in patrones:\n",
        "        m = re.search(pat, text)\n",
        "        if m:\n",
        "            return m.group(1).strip()\n",
        "\n",
        "    return \"\"\n",
        "\n",
        "# --- Crear nueva columna con la ubicación ---\n",
        "df[\"Ubicacion\"] = df[\"Info\"].apply(extraer_ubicacion)\n",
        "\n",
        "# --- Guardar nuevo archivo ---\n",
        "df.to_csv(\"museos_huila_limpio.csv\", index=False, encoding=\"utf-8\")\n",
        "\n",
        "print(\"✅ Archivo generado con ubicaciones extraídas\")\n"
      ],
      "metadata": {
        "colab": {
          "base_uri": "https://localhost:8080/"
        },
        "id": "bueczVcEMhyQ",
        "outputId": "0f4ac317-80d4-408c-a0c6-6c176e090128"
      },
      "execution_count": 13,
      "outputs": [
        {
          "output_type": "stream",
          "name": "stdout",
          "text": [
            "✅ Archivo generado con ubicaciones extraídas\n"
          ]
        }
      ]
    }
  ]
}